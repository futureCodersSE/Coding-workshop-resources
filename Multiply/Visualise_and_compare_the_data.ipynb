{
  "nbformat": 4,
  "nbformat_minor": 0,
  "metadata": {
    "colab": {
      "provenance": [],
      "authorship_tag": "ABX9TyPd2KjpZUye4FbCb0fzIlc3",
      "include_colab_link": true
    },
    "kernelspec": {
      "name": "python3",
      "display_name": "Python 3"
    },
    "language_info": {
      "name": "python"
    }
  },
  "cells": [
    {
      "cell_type": "markdown",
      "metadata": {
        "id": "view-in-github",
        "colab_type": "text"
      },
      "source": [
        "<a href=\"https://colab.research.google.com/github/futureCodersSE/Coding-workshop-resources/blob/master/Multiply/Visualise_and_compare_the_data.ipynb\" target=\"_parent\"><img src=\"https://colab.research.google.com/assets/colab-badge.svg\" alt=\"Open In Colab\"/></a>"
      ]
    },
    {
      "cell_type": "markdown",
      "source": [
        "# Visualising data - BEFORE YOU START\n",
        "---\n",
        "Now that you have opened this worksheet for the first time, you will need to copy it to your Google Drive.  If you don't then the wonderful changes you make in this worksheet will not be saved.\n",
        "\n",
        "Once you have saved it, open the copy (which will be in the next tab in the browser) and close this copy.  Make sure that you are working in the copy so that you can keep what you have done.\n",
        "\n",
        "---\n",
        "\n"
      ],
      "metadata": {
        "id": "OsrauhaLHqvI"
      }
    },
    {
      "cell_type": "markdown",
      "source": [
        "# Activity 1 - visualise and compare census data\n",
        "---\n",
        "The code below will allow you to upload two files so that you can have two sets of data in your charts\n",
        "\n",
        "Before you run it, as before, you will need to tell it the following:\n",
        "*  how many rows to skip before it gets to the data\n",
        "*  what the data set is called (e.g. Highest qualification)\n"
      ],
      "metadata": {
        "id": "7tlzr6b3tSAf"
      }
    },
    {
      "cell_type": "code",
      "execution_count": null,
      "metadata": {
        "id": "Ih0HSpIetQpW"
      },
      "outputs": [],
      "source": [
        "import pandas as pd\n",
        "from google.colab import files\n",
        "import matplotlib.pyplot as plt\n",
        "\n",
        "def upload_a_file():\n",
        "  uploaded = files.upload()\n",
        "\n",
        "  ## GET THE FILE NAME and NUMBER OF HEADER ROWS to skip - YOU WILL NEED TO CHANGE THIS NUMBER TO MATCH THE NUMBER OF ROWS IN YOUR DATA\n",
        "  filename = list(uploaded.keys())[0]\n",
        "  rows_to_skip = 7\n",
        "\n",
        "  ## READ THE FILE AND DISPLAY IT\n",
        "  datatable = pd.read_excel(filename, sheet_name=\"Sheet 1\", skiprows=rows_to_skip, header=None)\n",
        "  return datatable\n",
        "\n",
        "## NOW OPEN THE TWO FILES - EACH IN THE SAME WAY\n",
        "\n",
        "## UPLOAD THE FIRST DATA FILE ##\n",
        "# !rm *.xlsx\n",
        "datatable1 = upload_a_file()\n",
        "\n",
        "## UPLOAD THE FIRST DATA FILE ##\n",
        "!rm *.xlsx\n",
        "datatable2 = upload_a_file()\n",
        "\n",
        "## CHECK THAT BOTH HAVE UPLOADED CORRECTLY\n",
        "print(\"Medway\")\n",
        "display(datatable1)\n",
        "print(\"Portsmouth\")\n",
        "display(datatable2)"
      ]
    },
    {
      "cell_type": "markdown",
      "source": [
        "### Let's clean up the datatables\n",
        "---\n",
        "\n",
        "Run the code below, for each file to:\n",
        "*  store the year from row 0, column 1\n",
        "*  store the geography row 1, column 1\n",
        "*  remove all rows with NaN (no data)"
      ],
      "metadata": {
        "id": "za3sR0sJ4Cu9"
      }
    },
    {
      "cell_type": "code",
      "source": [
        "def clean_the_data(datatable):\n",
        "  ## STORE THE YEAR AND THE GEOGRAPHY\n",
        "  year = datatable.iloc[0][1]\n",
        "  geography = datatable.iloc[1][1]\n",
        "\n",
        "  ## DROP THE ROWS WITH NULL DATA AND RE-SET THE COLUMNS AND INDEXING (row numbering)\n",
        "  clean_data = datatable.dropna()\n",
        "  clean_data = clean_data.reset_index(drop=True)\n",
        "  clean_data.columns = clean_data.iloc[0]\n",
        "  clean_data.drop(axis=0, index=0, inplace=True)\n",
        "  clean_data = clean_data.reset_index(drop=True)\n",
        "  return clean_data, geography, year\n",
        "\n",
        "\n",
        "## USE THE CODE ABOVE TO CLEAN THE FIRST SET OF DATA, THEN THE SECOND SET OF DATA\n",
        "## THEN DISPLAY TO CHECK THAT THEY BOTH LOOK CLEAN\n",
        "cleaned_data_1, geography1, year1 = clean_the_data(datatable1)\n",
        "print(\"Year =\", year1, \"Area =\", geography1)\n",
        "display(cleaned_data_1)\n",
        "\n",
        "\n",
        "cleaned_data_2, geography2, year2 = clean_the_data(datatable2)\n",
        "print(\"Year =\", year2, \"Area =\", geography2)\n",
        "display(cleaned_data_2)"
      ],
      "metadata": {
        "id": "-kbBNYeF4cSQ"
      },
      "execution_count": null,
      "outputs": []
    },
    {
      "cell_type": "markdown",
      "source": [
        "### Create a vertical bar chart from the data\n",
        "---\n",
        "\n",
        "Now that the data looks a bit more useable, and we have stored important information like the year collected and the area, we can use some more code to create a simple bar chart\n",
        "\n",
        "*  Use the data from the **measures** column as labels (x is the common name for the labels)\n",
        "*  Use the data from the **percent** column to determine the bar heights (use percent rather than values as the towns have different population size)\n",
        "*  **choose** a colour for the bars\n",
        "*  set a title for the chart made from your chosen **topic**, the area and the year\n",
        "*  create and show the chart\n",
        "\n",
        "**Tip**:  if the labels at the bottom of the bars are overlapping and not readable, you can rotate them by adding this line of code after setting the title:  \n",
        "`plt.xticks(rotation=90)`\n",
        "\n"
      ],
      "metadata": {
        "id": "AjNxdhRR73aV"
      }
    },
    {
      "cell_type": "code",
      "source": [
        "import numpy as np\n",
        "\n",
        "# GET THE VALUES FROM THE TWO FILES AND SET INITIAL LABELS TO NUMBERS\n",
        "x = np.arange(len(cleaned_data_1))\n",
        "y1 = cleaned_data_1['percent']\n",
        "y2 = cleaned_data_2['percent']\n",
        "colour1 = \"green\"\n",
        "colour2 = \"yellow\"\n",
        "topic = \"Education\"\n",
        "\n",
        "## MAKE THE COLUMN CHART\n",
        "width = 0.4\n",
        "plt.bar(x, y1, width, color = colour1)\n",
        "plt.bar(x+width, y2, width, color = colour2)\n",
        "plt.title(topic + \" \" + geography1 + \" vs \" + geography2 + \" \" + year1)\n",
        "plt.xticks(x, cleaned_data_1['measures'], rotation=90)\n",
        "plt.legend([\"Medway\",\"Portsmouth\"])\n",
        "\n",
        "## SHOW THE CHART ONCE ALL SETTINGS HAVE BEEN CONFIGURED\n",
        "plt.show()"
      ],
      "metadata": {
        "id": "JuGQ0PTbBM_w"
      },
      "execution_count": null,
      "outputs": []
    },
    {
      "cell_type": "markdown",
      "source": [
        "### Create a pie chart from the data\n",
        "---\n",
        "\n",
        "Another appropriate way to visualise this data is a pie chart.  \n",
        "\n",
        "Before you make a pie chart you will need to remove the first row.  This is because the first row in these data sets is the total of all the other rows.   If you don't remove it, it will always be half of the pie and the other half will show the breakdown)\n",
        "\n",
        "A pie chart also needs:\n",
        "\n",
        "*  values (the values column BUT REMOVE THE FIRST ROW - this is all people so shouldn't be in the pie chart)\n",
        "*  labels (again, the first row should be removed\n",
        "*  a title (same as for the bar chart)\n",
        "\n",
        "The code below will do this\n"
      ],
      "metadata": {
        "id": "dQEY34i8LCWD"
      }
    },
    {
      "cell_type": "code",
      "source": [
        "def get_pie_data(cleaned_data):\n",
        "  pie_data = cleaned_data.copy()\n",
        "  pie_data.drop(axis=0, index=0, inplace=True)\n",
        "  pie_data = pie_data.reset_index(drop=True)\n",
        "  return pie_data['value']\n",
        "\n",
        "# ## CREATE THE CHARTS TO SHOW SIDE BY SIDE\n",
        "fig = plt.figure(figsize=(6,4),dpi=144)\n",
        "\n",
        "ax1 = fig.add_subplot(121)\n",
        "data = get_pie_data(cleaned_data_1)\n",
        "ax1.pie(data)\n",
        "ax1.set_title(geography1)\n",
        "\n",
        "ax2 = fig.add_subplot(122)\n",
        "data = get_pie_data(cleaned_data_2)\n",
        "ax2.pie(data)\n",
        "ax2.set_title(geography2)\n",
        "\n",
        "## SET YOUR TITLE AND LEGEND\n",
        "topic = \"Education\"\n",
        "fig.suptitle(topic + \" \" + year1)\n",
        "labels = cleaned_data_1['measures']\n",
        "fig.legend(labels, loc=\"lower center\", fontsize=\"6\")\n",
        "\n",
        "plt.show()"
      ],
      "metadata": {
        "id": "Dx_H0zpVNJhb"
      },
      "execution_count": null,
      "outputs": []
    },
    {
      "cell_type": "markdown",
      "source": [
        "# When you are happy with your charts, you can save them\n",
        "Just **right-click** on a chart and save it in the downloads folder for now."
      ],
      "metadata": {
        "id": "uf_MKLXiQiov"
      }
    }
  ]
}