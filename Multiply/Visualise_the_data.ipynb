{
  "nbformat": 4,
  "nbformat_minor": 0,
  "metadata": {
    "colab": {
      "provenance": [],
      "authorship_tag": "ABX9TyO2Q7TOlwyLG38b1nuXEZFz",
      "include_colab_link": true
    },
    "kernelspec": {
      "name": "python3",
      "display_name": "Python 3"
    },
    "language_info": {
      "name": "python"
    }
  },
  "cells": [
    {
      "cell_type": "markdown",
      "metadata": {
        "id": "view-in-github",
        "colab_type": "text"
      },
      "source": [
        "<a href=\"https://colab.research.google.com/github/futureCodersSE/Coding-workshop-resources/blob/master/Multiply/Visualise_the_data.ipynb\" target=\"_parent\"><img src=\"https://colab.research.google.com/assets/colab-badge.svg\" alt=\"Open In Colab\"/></a>"
      ]
    },
    {
      "cell_type": "markdown",
      "source": [
        "# Visualising data - BEFORE YOU START\n",
        "---\n",
        "Now that you have opened this worksheet for the first time, you will need to copy it to your Google Drive.  If you don't then the wonderful changes you make in this worksheet will not be saved.\n",
        "\n",
        "Once you have saved it, open the copy (which will be in the next tab in the browser) and close this copy.  Make sure that you are working in the copy so that you can keep what you have done.\n",
        "\n",
        "---\n",
        "\n"
      ],
      "metadata": {
        "id": "OsrauhaLHqvI"
      }
    },
    {
      "cell_type": "markdown",
      "source": [
        "# Activity 1 - visualise the census data\n",
        "---\n",
        "The code below will allow you to upload the file, then read the data and create a column chart.\n",
        "\n",
        "Before you run it, you will need to tell it the following:\n",
        "*  how many rows to skip before it gets to the data\n",
        "*  what the data set is called (e.g. Demography)\n"
      ],
      "metadata": {
        "id": "7tlzr6b3tSAf"
      }
    },
    {
      "cell_type": "code",
      "execution_count": null,
      "metadata": {
        "id": "Ih0HSpIetQpW"
      },
      "outputs": [],
      "source": [
        "import pandas as pd\n",
        "from google.colab import files\n",
        "import matplotlib.pyplot as plt\n",
        "\n",
        "## UPLOAD THE DATA FILE ##\n",
        "!rm *.xlsx\n",
        "uploaded = files.upload()\n",
        "\n",
        "## GET THE FILE NAME and NUMBER OF HEADER ROWS to skip - YOU WILL NEED TO CHANGE THIS NUMBER TO MATCH THE NUMBER OF ROWS IN YOUR DATA\n",
        "filename = list(uploaded.keys())[0]\n",
        "rows_to_skip = 7\n",
        "\n",
        "## READ THE FILE AND DISPLAY IT\n",
        "datatable = pd.read_excel(filename, sheet_name=\"Sheet 1\", skiprows=rows_to_skip, header=None)\n",
        "display(datatable)\n",
        "\n",
        "## NOW MOVE TO THE NEXT CELL TO CLEAN THE DATA UP"
      ]
    },
    {
      "cell_type": "markdown",
      "source": [
        "### Let's clean this data up - it is a bit messy\n",
        "---\n",
        "\n",
        "Run the code below to:\n",
        "*  store the year from row 0, column 1\n",
        "*  store the geography row 1, column 1\n",
        "*  remove all rows with NaN (no data)"
      ],
      "metadata": {
        "id": "za3sR0sJ4Cu9"
      }
    },
    {
      "cell_type": "code",
      "source": [
        "## STORE THE YEAR AND THE GEOGRAPHY\n",
        "year = datatable.iloc[0][1]\n",
        "geography = datatable.iloc[1][1]\n",
        "print(\"Year =\", year, \"Area =\", geography)\n",
        "\n",
        "## DROP THE ROWS WITH NULL DATA AND RE-SET THE COLUMNS AND INDEXING (row numbering)\n",
        "clean_data = datatable.dropna()\n",
        "clean_data = clean_data.reset_index(drop=True)\n",
        "clean_data.columns = clean_data.iloc[0]\n",
        "clean_data.drop(axis=0, index=0, inplace=True)\n",
        "\n",
        "\n",
        "display(clean_data)"
      ],
      "metadata": {
        "id": "-kbBNYeF4cSQ"
      },
      "execution_count": null,
      "outputs": []
    },
    {
      "cell_type": "code",
      "source": [
        "## STORE THE YEAR AND THE GEOGRAPHY\n",
        "year = datatable.iloc[0][1]\n",
        "geography = datatable.iloc[1][1]\n",
        "print(\"Year =\", year, \"Area =\", geography)\n",
        "\n",
        "## DROP THE ROWS WITH NULL DATA AND RE-SET THE COLUMNS AND INDEXING (row numbering)\n",
        "clean_data = datatable.dropna()\n",
        "clean_data = clean_data.reset_index(drop=True)\n",
        "clean_data.columns = clean_data.iloc[0]\n",
        "clean_data.drop(axis=0, index=0, inplace=True)\n",
        "clean_data = clean_data.reset_index(drop=True)\n",
        "\n",
        "display(clean_data)"
      ],
      "metadata": {
        "id": "zZqioHe4L3Ba"
      },
      "execution_count": null,
      "outputs": []
    },
    {
      "cell_type": "markdown",
      "source": [
        "### Create a vertical bar chart from the data\n",
        "---\n",
        "\n",
        "Now that the data looks a bit more useable, and we have stored important information like the year collected and the area, we can use some more code to create a simple bar chart\n",
        "\n",
        "*  Use the data from the **measures** column as labels (x is the common name for the labels)\n",
        "*  Use the data from the **value** column to determine the bar heights (y is the common name for the bar heights\n",
        "*  **choose** a colour for the bars\n",
        "*  set a title for the chart made from your chosen **topic**, the area and the year\n",
        "*  create and show the chart\n",
        "\n",
        "**Tip**:  if the labels at the bottom of the bars are overlapping and not readable, you can rotate them by adding this line of code after setting the title:  \n",
        "`plt.xticks(rotation=90)`\n",
        "\n"
      ],
      "metadata": {
        "id": "AjNxdhRR73aV"
      }
    },
    {
      "cell_type": "code",
      "source": [
        "x = clean_data['measures']\n",
        "y = clean_data['value']\n",
        "bar_colour = \"green\"\n",
        "topic = \"Demographics\"\n",
        "\n",
        "\n",
        "## MAKE THE COLUMN CHART\n",
        "plt.bar(x,y, color = bar_colour)\n",
        "plt.title(topic + \" \" + geography + \" \" + year)\n",
        "plt.xticks(rotation=90)\n",
        "\n",
        "## SHOW THE CHART ONCE ALL SETTINGS HAVE BEEN CONFIGURED\n",
        "plt.show()"
      ],
      "metadata": {
        "id": "JuGQ0PTbBM_w"
      },
      "execution_count": null,
      "outputs": []
    },
    {
      "cell_type": "markdown",
      "source": [
        "### Create a pie chart from the data\n",
        "---\n",
        "\n",
        "Another appropriate way to visualise this data is a pie chart.  \n",
        "\n",
        "Before you make a pie chart you will need to remove the first row.  This is because the first row in these data sets is the total of all the other rows.   If you don't remove it, it will always be half of the pie and the other half will show the breakdown)\n",
        "\n",
        "A pie chart also needs:\n",
        "\n",
        "*  values (the values column BUT REMOVE THE FIRST ROW - this is all people so shouldn't be in the pie chart)\n",
        "*  labels (again, the first row should be removed\n",
        "*  a title (same as for the bar chart)\n",
        "\n",
        "The code below will do this - add your colour and topic\n"
      ],
      "metadata": {
        "id": "dQEY34i8LCWD"
      }
    },
    {
      "cell_type": "code",
      "source": [
        "## REMOVE THE FIRST ROW AND SAVE AS A NEW DATATABLE\n",
        "pie_data = clean_data.copy()\n",
        "pie_data.drop(axis=0, index=0, inplace=True)\n",
        "display(pie_data)\n",
        "\n",
        "## SET YOUR TOPIC\n",
        "topic = \"Demographics\"\n",
        "\n",
        "## CREATE THE PIE\n",
        "data = pie_data['value']\n",
        "labels = pie_data['measures']\n",
        "plt.pie(data, labels = labels)\n",
        "plt.title(topic + \" \" + geography + \" \" + year)\n",
        "\n",
        "\n",
        "## SHOW THE CHART ONCE ALL SETTINGS HAVE BEEN CONFIGURED\n",
        "plt.show()"
      ],
      "metadata": {
        "id": "Dx_H0zpVNJhb"
      },
      "execution_count": null,
      "outputs": []
    },
    {
      "cell_type": "markdown",
      "source": [
        "# Playing with the charts\n",
        "---\n",
        "\n",
        "If you are keen to have a go with the code, you can get some easy going help on modifying the look of your charts here:\n",
        "\n",
        "Bar charts  \n",
        "https://www.w3schools.com/python/matplotlib_bars.asp\n",
        "\n",
        "Pie charts  \n",
        "https://www.w3schools.com/python/matplotlib_pie_charts.asp\n",
        "\n",
        "# When you are happy with your charts, you can save them\n",
        "Just **right-click** on a chart and save it in the downloads folder for now."
      ],
      "metadata": {
        "id": "uf_MKLXiQiov"
      }
    }
  ]
}