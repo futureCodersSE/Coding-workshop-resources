{
  "nbformat": 4,
  "nbformat_minor": 0,
  "metadata": {
    "colab": {
      "name": "Quiz Game Mini Project.ipynb",
      "provenance": [],
      "collapsed_sections": [],
      "include_colab_link": true
    },
    "kernelspec": {
      "name": "python3",
      "display_name": "Python 3"
    }
  },
  "cells": [
    {
      "cell_type": "markdown",
      "metadata": {
        "id": "view-in-github",
        "colab_type": "text"
      },
      "source": [
        "<a href=\"https://colab.research.google.com/github/futureCodersSE/Coding-workshop-resources/blob/master/StaffTraining/Quiz_Game_Mini_Project.ipynb\" target=\"_parent\"><img src=\"https://colab.research.google.com/assets/colab-badge.svg\" alt=\"Open In Colab\"/></a>"
      ]
    },
    {
      "cell_type": "markdown",
      "metadata": {
        "id": "hfYzBHsYgy0C"
      },
      "source": [
        "# What is the Quiz / Game?\n",
        "---\n",
        "\n",
        "This is a simple game to ask the user questions on a chosen topic, and to see how many they get right.  It practices keeping the score for correct answers, and uses arithmetic operators to calculate the final score as a percentage.\n",
        "\n",
        "The features of this game are:\n",
        "\n",
        "* functions\n",
        "* taking input from the user\n",
        "* print()\n",
        "* if, elif, else\n",
        "* equality (==)\n",
        "* .lower() method to convert user input to lower case\n",
        "* keeping a running score for right answers\n",
        "* calculate percentage of how many right questions were answered\n",
        "\n",
        "# Keeping Score\n",
        "____\n",
        "\n",
        "```\n",
        "score = 0\n",
        "score +=1\n",
        "``\n",
        "\n",
        "Have a go at creating a quiz in the cell below."
      ]
    },
    {
      "cell_type": "code",
      "source": [
        ""
      ],
      "metadata": {
        "id": "-MXni-htHKP_"
      },
      "execution_count": null,
      "outputs": []
    },
    {
      "cell_type": "code",
      "source": [
        ""
      ],
      "metadata": {
        "id": "1x6W4Uzpi3FX"
      },
      "execution_count": null,
      "outputs": []
    }
  ]
}