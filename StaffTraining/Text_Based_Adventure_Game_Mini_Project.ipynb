{
  "nbformat": 4,
  "nbformat_minor": 0,
  "metadata": {
    "colab": {
      "name": "Text Based Adventure Game Mini Project.ipynb",
      "provenance": [],
      "collapsed_sections": [],
      "include_colab_link": true
    },
    "kernelspec": {
      "name": "python3",
      "display_name": "Python 3"
    }
  },
  "cells": [
    {
      "cell_type": "markdown",
      "metadata": {
        "id": "view-in-github",
        "colab_type": "text"
      },
      "source": [
        "<a href=\"https://colab.research.google.com/github/futureCodersSE/Coding-workshop-resources/blob/master/StaffTraining/Text_Based_Adventure_Game_Mini_Project.ipynb\" target=\"_parent\"><img src=\"https://colab.research.google.com/assets/colab-badge.svg\" alt=\"Open In Colab\"/></a>"
      ]
    },
    {
      "cell_type": "markdown",
      "metadata": {
        "id": "hfYzBHsYgy0C"
      },
      "source": [
        "# What is a Text Based Adventure Game?\n",
        "---\n",
        "\n",
        "Early computer games did not have the graphics capabilities or software to create games as we know them now.  This is a good introduction to early computer gaming so they can see how game design and technology has moved on, but it is also an excellent way to develop and consolidate Python 3 skills while having some fun.  The game develops skills for:\n",
        "\n",
        "* functions (writing, calling and passing in arguments)\n",
        "* taking input from the user\n",
        "* print()\n",
        "* if, elif, else\n",
        "* equality (==)\n",
        "* .lower() method to convert user input to lower case\n",
        "* order of code\n",
        "\n",
        "# Example of one of the first games\n",
        "---\n",
        "This is an example of one of the first computer games online.  It might be good to just have a look:\n",
        "\n",
        "http://textadventures.co.uk/games/play/5zyoqrsugeopel3ffhz_vq\n",
        "\n",
        "The link to a flow chart for a simple text-based-adventure game is here.  It has been based on an exercise from codingpie.com.\n",
        "\n",
        "The game uses a number of rooms and choices / decisions to be made by the user. It would be a good introduction to code this and get the idea before moving on to designing your own game and coding it.  \n",
        "\n",
        "https://drive.google.com/file/d/1ZyJ3beAgJukHRzRQynCSgEUYKjHhs5ma/view?usp=sharing\n",
        "\n",
        "Learners can have a lot of fun doing this.\n",
        "\n",
        "# Requirements\n",
        "____\n",
        "In this example the following are the functions that are required:\n",
        "\n",
        "```\n",
        "start()\n",
        "load_bear_room()\n",
        "load_monster_room()\n",
        "load_diamond_room()\n",
        "game_over()\n",
        "win()\n",
        "```\n",
        "\n",
        "Each room should start with the intro to the room and provide the choices for the user\n",
        "\n",
        "The decisions are the choices offered to the user, and depending on the choice they make, the relevant function is loaded.\n",
        "\n",
        "The order of the functions is important.  For example, if the user chooses option 1 from the load_bear_room(), the game_over() function will be called.  Therefore the game_over() function must be written in the code above the load_bear_room() function, otherwise you will get an error message.\n",
        "\n",
        "It is good practice to create all your functions in advance and to use pass so the function does not try and run.\n",
        "\n",
        "```\n",
        "def start():\n",
        "  pass\n",
        "```\n",
        "\n",
        "Have a go at creating this text-based adventure game in the cell below."
      ]
    },
    {
      "cell_type": "code",
      "source": [
        ""
      ],
      "metadata": {
        "id": "-MXni-htHKP_"
      },
      "execution_count": null,
      "outputs": []
    },
    {
      "cell_type": "markdown",
      "source": [
        "# Create Your Adventure\n",
        "_____\n",
        "\n",
        "Use the cell below to create your own game as wild as your imagination."
      ],
      "metadata": {
        "id": "uTI9iQpsiks1"
      }
    },
    {
      "cell_type": "code",
      "source": [
        ""
      ],
      "metadata": {
        "id": "1x6W4Uzpi3FX"
      },
      "execution_count": null,
      "outputs": []
    }
  ]
}