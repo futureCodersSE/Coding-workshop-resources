{
  "nbformat": 4,
  "nbformat_minor": 0,
  "metadata": {
    "colab": {
      "provenance": [],
      "authorship_tag": "ABX9TyM4+HVoIO1uGW7JzONoxhtv",
      "include_colab_link": true
    },
    "kernelspec": {
      "name": "python3",
      "display_name": "Python 3"
    },
    "language_info": {
      "name": "python"
    }
  },
  "cells": [
    {
      "cell_type": "markdown",
      "metadata": {
        "id": "view-in-github",
        "colab_type": "text"
      },
      "source": [
        "<a href=\"https://colab.research.google.com/github/futureCodersSE/Coding-workshop-resources/blob/master/Raindrop_Animation.ipynb\" target=\"_parent\"><img src=\"https://colab.research.google.com/assets/colab-badge.svg\" alt=\"Open In Colab\"/></a>"
      ]
    },
    {
      "cell_type": "markdown",
      "source": [
        "# Animated raindrops using matplotlib and a scatter diagram"
      ],
      "metadata": {
        "id": "u4qjz7dJW_jC"
      }
    },
    {
      "cell_type": "markdown",
      "source": [
        "## 1. Import libraries"
      ],
      "metadata": {
        "id": "7-7zN-bPXGkP"
      }
    },
    {
      "cell_type": "code",
      "source": [
        "import numpy as np\n",
        "import matplotlib.pyplot as plt\n",
        "from matplotlib.animation import FuncAnimation\n",
        "from matplotlib import rc"
      ],
      "metadata": {
        "id": "SXvlo9EOXF0Y"
      },
      "execution_count": 56,
      "outputs": []
    },
    {
      "cell_type": "markdown",
      "source": [
        "## 2. Create the data"
      ],
      "metadata": {
        "id": "oKQOk29MXUkY"
      }
    },
    {
      "cell_type": "code",
      "source": [
        "def create_data():\n",
        "  # Fix random state for reproducibility\n",
        "  np.random.seed(19680801)\n",
        "\n",
        "  # Create rain data\n",
        "  number_of_drops = 50\n",
        "  rain_drops = np.zeros(number_of_drops, dtype=[('position', float, (2,)), ('size',     float), ('growth',   float), ('color',    float, (4,))])\n",
        "\n",
        "  # Initialize the raindrops in random positions and with random growth rates.\n",
        "  rain_drops['position'] = np.random.uniform(0, 1, (number_of_drops, 2))\n",
        "  rain_drops['growth'] = np.random.uniform(50, 200, number_of_drops)\n",
        "  return rain_drops, number_of_drops\n",
        "\n",
        "\n"
      ],
      "metadata": {
        "id": "fq_8Z1eYXcaQ"
      },
      "execution_count": 57,
      "outputs": []
    },
    {
      "cell_type": "markdown",
      "source": [
        "## 3. Create a plot"
      ],
      "metadata": {
        "id": "QUd2ZowKXK3w"
      }
    },
    {
      "cell_type": "code",
      "source": [
        "def create_plot(rain_drops): \n",
        "  fig = plt.figure(figsize=(7, 7))\n",
        "  ax = fig.add_axes([0, 0, 1, 1], frameon=False)\n",
        "  ax.set_xlim(0, 1), ax.set_xticks([])\n",
        "  ax.set_ylim(0, 1), ax.set_yticks([])\n",
        "\n",
        "  return ax.scatter(rain_drops['position'][:, 0], rain_drops['position'][:, 1],\n",
        "                    s=rain_drops['size'], lw=0.5, edgecolors=rain_drops['color'],\n",
        "                    facecolors='none'), fig\n",
        "\n",
        "rain_drops, number_of_drops = create_data()\n",
        "rain_scatter, fig = create_plot(rain_drops)\n",
        "plt.show()"
      ],
      "metadata": {
        "id": "8VCC1XInXPyw"
      },
      "execution_count": null,
      "outputs": []
    },
    {
      "cell_type": "markdown",
      "source": [
        "## 4. Define the animation functions"
      ],
      "metadata": {
        "id": "s9sj-w2XYUZR"
      }
    },
    {
      "cell_type": "code",
      "execution_count": 59,
      "metadata": {
        "id": "MOII7G4zW9B-"
      },
      "outputs": [],
      "source": [
        "def update(frame_number):\n",
        "    # Get an index which we can use to re-spawn the oldest raindrop.\n",
        "    current_index = frame_number % number_of_drops\n",
        "\n",
        "    # Make all colors more transparent as time progresses.\n",
        "    rain_drops['color'][:, 3] -= 1.0/len(rain_drops)\n",
        "    rain_drops['color'][:, 3] = np.clip(rain_drops['color'][:, 3], 0, 1)\n",
        "\n",
        "    # Make all circles bigger.\n",
        "    rain_drops['size'] += rain_drops['growth']\n",
        "\n",
        "    # Pick a new position for oldest rain drop, resetting its size,\n",
        "    # color and growth factor.\n",
        "    rain_drops['position'][current_index] = np.random.uniform(0, 1, 2)\n",
        "    rain_drops['size'][current_index] = 5\n",
        "    rain_drops['color'][current_index] = (0, 0, 0, 1)\n",
        "    rain_drops['growth'][current_index] = np.random.uniform(50, 200)\n",
        "\n",
        "    # Update the scatter collection, with the new colors, sizes and positions.\n",
        "    rain_scatter.set_edgecolors(rain_drops['color'])\n",
        "    rain_scatter.set_sizes(rain_drops['size'])\n",
        "    rain_scatter.set_offsets(rain_drops['position'])\n",
        "    return rain_scatter,\n"
      ]
    },
    {
      "cell_type": "markdown",
      "source": [
        "## 5. Run the animation"
      ],
      "metadata": {
        "id": "iEwao24FYbWf"
      }
    },
    {
      "cell_type": "code",
      "source": [
        "rc('animation', html='jshtml')\n",
        "\n",
        "# Construct the animation, using the update function as the animation director.\n",
        "animation = FuncAnimation(fig, update, interval=10, save_count=100)\n",
        "animation"
      ],
      "metadata": {
        "id": "r28Zd8ydYdl4"
      },
      "execution_count": null,
      "outputs": []
    }
  ]
}