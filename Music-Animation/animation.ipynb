{
  "cells": [
    {
      "cell_type": "markdown",
      "metadata": {
        "id": "view-in-github",
        "colab_type": "text"
      },
      "source": [
        "<a href=\"https://colab.research.google.com/github/futureCodersSE/Coding-workshop-resources/blob/master/Music-Animation/animation.ipynb\" target=\"_parent\"><img src=\"https://colab.research.google.com/assets/colab-badge.svg\" alt=\"Open In Colab\"/></a>"
      ]
    },
    {
      "cell_type": "markdown",
      "metadata": {
        "id": "u4qjz7dJW_jC"
      },
      "source": [
        "# Animation created from sampled music (30 second clip) using matplotlib and a scatter diagram\n",
        "---\n"
      ]
    },
    {
      "cell_type": "markdown",
      "metadata": {
        "id": "qBq6GJ8bWdgf"
      },
      "source": [
        "## To create the animation:\n",
        "\n",
        "* Run cells 0, 1, 2 and 3  \n",
        "* Check after cell 3 that you have a sound_data sample that has a length and a minimum of 0 and maximum of 100 (individual sounds will be represented by a number between 0 and 100% of the maximum"
      ]
    },
    {
      "cell_type": "markdown",
      "source": [
        "# Section A - setting up and getting sound data\n",
        "----\n",
        "**Upload the sound data**\n",
        "\n",
        "* install and import the libraries (_these do the work so you don't have to code this part_)\n",
        "* open the sound data file (_you can create a plain animation from a 30 second mp3 sound clip, or with a background image from a 15 second mp3 sound clip_)\n",
        "\n",
        "**Once you have done this you will have a set of 'sound data' that you can create a chart from, then can animate it.**\n",
        "\n",
        "* Run cells 0, 1,  and 2  "
      ],
      "metadata": {
        "id": "oOF_jjNMCJzq"
      }
    },
    {
      "cell_type": "markdown",
      "metadata": {
        "id": "dTLuy-x8YIzD"
      },
      "source": [
        "## 0. Install dependencies\n",
        "---\n"
      ]
    },
    {
      "cell_type": "code",
      "execution_count": null,
      "metadata": {
        "id": "0Jcu8030YVNS"
      },
      "outputs": [],
      "source": [
        "!pip install audio2numpy\n",
        "!pip install IPython"
      ]
    },
    {
      "cell_type": "markdown",
      "metadata": {
        "id": "7-7zN-bPXGkP"
      },
      "source": [
        "## 1. Import libraries\n",
        "---\n"
      ]
    },
    {
      "cell_type": "code",
      "execution_count": null,
      "metadata": {
        "id": "SXvlo9EOXF0Y"
      },
      "outputs": [],
      "source": [
        "import numpy as np\n",
        "import matplotlib.pyplot as plt\n",
        "from matplotlib.animation import FuncAnimation\n",
        "from matplotlib import rc\n",
        "\n",
        "import audio2numpy as a2n\n",
        "from google.colab import files\n",
        "\n",
        "import IPython"
      ]
    },
    {
      "cell_type": "markdown",
      "metadata": {
        "id": "oKQOk29MXUkY"
      },
      "source": [
        "## 2. Read and store the sound data\n",
        "---\n",
        "\n",
        "* Upload the sound file from your computer.\n",
        "* Turn the sound into data\n",
        "\n",
        "Once you have done this, the sound data will be available until next time you run the worksheet."
      ]
    },
    {
      "cell_type": "code",
      "execution_count": null,
      "metadata": {
        "id": "_qerfrcxYoSa"
      },
      "outputs": [],
      "source": [
        "def get_sound_data():\n",
        "  uploaded = files.upload()\n",
        "  for fn in uploaded.keys():\n",
        "    filename = fn\n",
        "  x,sr=a2n.audio_from_file(filename)\n",
        "  return x, filename\n",
        "\n",
        "\n",
        "!rm *\n",
        "data, SOUND_FILE = get_sound_data()"
      ]
    },
    {
      "cell_type": "markdown",
      "source": [
        "# Section B - process the sound data for the animation\n",
        "---\n",
        "* how many frames per second?\n",
        "* how long is the sound clip?\n",
        "* prepare the data to fit the frames per second\n",
        "\n",
        "**Once you have done this you will have a set of data that is ready to animate**  \n",
        "\n",
        "* Run cells 3 and 4 to prepare the data\n",
        "\n",
        "* Check after cell 4 that you have a sound_data sample that has a length and a minimum of 0 and maximum of 100 (individual sounds will be represented by a number between 0 and 100% of the maximum)"
      ],
      "metadata": {
        "id": "yqFQquisGBs_"
      }
    },
    {
      "cell_type": "markdown",
      "metadata": {
        "id": "vN80wKhnK7SK"
      },
      "source": [
        "##3. Define frames per second, clip length"
      ]
    },
    {
      "cell_type": "code",
      "source": [
        "FRAMES_PER_SECOND = 10\n",
        "CLIP_LENGTH = 28"
      ],
      "metadata": {
        "id": "63djAFflJgoL"
      },
      "execution_count": null,
      "outputs": []
    },
    {
      "cell_type": "markdown",
      "source": [
        "##4. Process the sound data\n",
        "---\n"
      ],
      "metadata": {
        "id": "EslOzbw9J01-"
      }
    },
    {
      "cell_type": "code",
      "execution_count": null,
      "metadata": {
        "id": "XwaN6Dm2K9bc"
      },
      "outputs": [],
      "source": [
        "# Get sound samples, adjust up so no negatives, convert each to a percentage of the range\n",
        "def process_data(data, clip_length, frames_per_second):\n",
        "  sound_data = data[:,0]\n",
        "  number_of_samples = clip_length  * frames_per_second\n",
        "  sample_rate = len(sound_data)//number_of_samples\n",
        "  # sample at intervals rather than every beat\n",
        "  sound_data = sound_data[::sample_rate]\n",
        "  if sound_data.min() < 0:\n",
        "    sound_data = sound_data + abs(sound_data.min())\n",
        "  sound_data = (sound_data - sound_data.min()) / (sound_data.max() - sound_data.min()) * 100\n",
        "  return sound_data\n",
        "\n",
        "# set number of beats in sound clip at sampling rate set in EarSketch (e.g. tempo)\n",
        "SOUND_DATA = process_data(data, CLIP_LENGTH, FRAMES_PER_SECOND)\n",
        "print(\"Number of sound samples =\", len(SOUND_DATA))\n",
        "print(\"Minimum value =\", SOUND_DATA.min())\n",
        "print(\"Maximum value =\", SOUND_DATA.max())"
      ]
    },
    {
      "cell_type": "markdown",
      "source": [
        "# Section C - customise the animation settings\n",
        "---\n",
        "\n",
        "Set the background colour, colour, shape and size of moving objects, number of moving objects, any background image\n",
        "\n",
        "**This animation will be a graph representing the data, that will change as the data changes.**\n",
        "\n",
        "Run cells 5 and 6 to customise the animation"
      ],
      "metadata": {
        "id": "CuImskj_MK6K"
      }
    },
    {
      "cell_type": "markdown",
      "source": [
        "## 5. Set animation features (colours, sizes, number of objects, number of frames, interval between frames)\n",
        "\n",
        "[**Information about available colours**](https://drive.google.com/file/d/1YAlx3IXOJ_KXreKAlnNCeINvOKcciXz4/view?usp=sharing)  \n",
        "\n",
        "[**Information about marker styles**](https://matplotlib.org/stable/api/markers_api.html)  \n",
        "\n",
        "Marker size is in pixels  "
      ],
      "metadata": {
        "id": "-lAZPX1CxHgz"
      }
    },
    {
      "cell_type": "code",
      "source": [
        "# set colour theme\n",
        "BACKGROUND_COLOUR = 'tab:olive'\n",
        "MARKER_COLOURS = \"darkslategray\"  # if the markers will be different colours, make a list of colours with a colour for each marker (so a list of 10 colours for 10 markers)\n",
        "\n",
        "# set graphics\n",
        "NUMBER_OF_MARKERS = 10\n",
        "MARKER_STYLE = \"h\"\n",
        "MARKER_SIZE = 200\n",
        "\n",
        "# set timing (number of frames and length of time between each, to make animation same length as sound clip)\n",
        "FRAMES = len(SOUND_DATA) - NUMBER_OF_MARKERS #\n",
        "INTERVAL = 1000 // FRAMES_PER_SECOND  # number of milliseconds between frames"
      ],
      "metadata": {
        "id": "u1jPfzXExO5T"
      },
      "execution_count": null,
      "outputs": []
    },
    {
      "cell_type": "markdown",
      "source": [
        "## 6. Upload a background image (optional and reduces the size of the animation you can make)\n",
        "---\n",
        "\n",
        "You can add a background image but this will make the animation big and so you will need to make it shorter.  You can use background colour rather than image to help keep the animation smaller.\n",
        "\n",
        "If you want to use a background image, upload it by running cell 6"
      ],
      "metadata": {
        "id": "mjG9BHS1RNlU"
      }
    },
    {
      "cell_type": "code",
      "source": [
        "# get the background image\n",
        "\n",
        "def get_background_image():\n",
        "  uploaded = files.upload()\n",
        "  for fn in uploaded.keys():\n",
        "    filename = fn\n",
        "  return filename\n",
        "\n",
        "!rm *\n",
        "# BG_IMAGE = get_background_image()"
      ],
      "metadata": {
        "id": "kPblo-m7Rvm1"
      },
      "execution_count": null,
      "outputs": []
    },
    {
      "cell_type": "markdown",
      "source": [
        "# Section D - create the animation\n",
        "---\n",
        "Create a 'chart' from the first sound sample.  This will then be modified to reflect each sound sample in turn.\n",
        "\n",
        "**Run cells**:  \n",
        "7 - to make the first frame (this time - the frame is ten objects in a line plotted from the first sound sample in the file  \n",
        "8 - to define how the second, third, etc frames will be created  \n",
        "9 - build the animation file"
      ],
      "metadata": {
        "id": "Gqsi1vVxTaf-"
      }
    },
    {
      "cell_type": "markdown",
      "metadata": {
        "id": "QUd2ZowKXK3w"
      },
      "source": [
        "## 7. Create the first frame\n",
        "---\n"
      ]
    },
    {
      "cell_type": "code",
      "execution_count": null,
      "metadata": {
        "id": "8VCC1XInXPyw"
      },
      "outputs": [],
      "source": [
        "# create plot\n",
        "fig, ax = plt.subplots()\n",
        "# img = plt.imread(BG_IMAGE) ## uncomment if adding a background image\n",
        "# ax.imshow(img, aspect='auto', extent=[0,NUMBER_OF_MARKERS+1, 0, 100]) ## uncomment if adding a background image\n",
        "\n",
        "# Hide X and Y axes label and tick marks\n",
        "ax.xaxis.set_tick_params(labelbottom=False)\n",
        "ax.yaxis.set_tick_params(labelleft=False)\n",
        "ax.set_xticks([])\n",
        "ax.set_yticks([])\n",
        "\n",
        "# Set background colour and the axes size\n",
        "ax.set_facecolor(BACKGROUND_COLOUR)\n",
        "ax.set(xlim=[0, NUMBER_OF_MARKERS+1], ylim=[0, 100])\n",
        "\n",
        "# create a set of points to plot from the first sound sample\n",
        "x = [i for i in range(1,NUMBER_OF_MARKERS+1)]\n",
        "y = y = SOUND_DATA[:NUMBER_OF_MARKERS]\n",
        "scatter = ax.scatter(x, y, c=MARKER_COLOURS, s=MARKER_SIZE, vmin=0, vmax=100, marker=MARKER_STYLE)\n"
      ]
    },
    {
      "cell_type": "markdown",
      "metadata": {
        "id": "uFaBVen9XueG"
      },
      "source": [
        "## 8. Define how the animation will work\n",
        "---\n"
      ]
    },
    {
      "cell_type": "code",
      "execution_count": null,
      "metadata": {
        "id": "dbvjqR-5GyXl"
      },
      "outputs": [],
      "source": [
        "def update(frame):\n",
        "    # for each frame, update the data stored on each artist, keeping x values the same.\n",
        "    if frame + 10 > len(SOUND_DATA):\n",
        "      frame = frame - 10\n",
        "    y = SOUND_DATA[frame:frame+10]\n",
        "    data = np.stack([x, y]).T\n",
        "    scatter.set_offsets(data)\n",
        "    return (scatter,)"
      ]
    },
    {
      "cell_type": "markdown",
      "metadata": {
        "id": "FJhaW-MsT8_A"
      },
      "source": [
        "## 9. Build the animation\n",
        "---\n",
        "\n",
        "It will take a minute or two to build, then you will be able to run it as many times as you want.  When you are happy with it you can save it.  To make changes, change settings in section 4 (Create a base plot), then run 4 and 5 again, before running the animation again to test it."
      ]
    },
    {
      "cell_type": "code",
      "execution_count": null,
      "metadata": {
        "id": "9_xDbq82T-tJ"
      },
      "outputs": [],
      "source": [
        "rc('animation', html='jshtml')\n",
        "anim = FuncAnimation(fig=fig, func=update, frames=FRAMES, interval=INTERVAL)\n",
        "anim"
      ]
    },
    {
      "cell_type": "markdown",
      "source": [
        "## 10. Play the music (test that the animation fits)\n",
        "---\n"
      ],
      "metadata": {
        "id": "U2HdOCQM3a4q"
      }
    },
    {
      "cell_type": "code",
      "source": [
        "IPython.display.Audio(SOUND_FILE)"
      ],
      "metadata": {
        "id": "t7yTrklF3b3A"
      },
      "execution_count": null,
      "outputs": []
    },
    {
      "cell_type": "markdown",
      "metadata": {
        "id": "dSojeK8vXp8u"
      },
      "source": [
        "## 11.  Save the animation as a gif\n",
        "---"
      ]
    },
    {
      "cell_type": "code",
      "execution_count": null,
      "metadata": {
        "id": "L3qQGFoaXpMv"
      },
      "outputs": [],
      "source": [
        "filename = \"test_animation.gif\"\n",
        "anim.save(filename=filename, writer=\"pillow\")\n",
        "files.download(filename)"
      ]
    },
    {
      "cell_type": "markdown",
      "source": [
        "# Section E - Create a video using MovieMaker online\n",
        "---\n",
        "### To make into a movie/video\n",
        "* go to https://moviemakeronline.com/mm/movie-maker\n",
        "* upload the saved gif\n",
        "* upload the music file\n",
        "* make the movie\n",
        "* download the mp4\n",
        "* play the movie\n"
      ],
      "metadata": {
        "id": "tWMmlCwWY8uY"
      }
    }
  ],
  "metadata": {
    "colab": {
      "provenance": [],
      "collapsed_sections": [
        "oOF_jjNMCJzq",
        "dTLuy-x8YIzD",
        "7-7zN-bPXGkP",
        "oKQOk29MXUkY",
        "yqFQquisGBs_",
        "Gqsi1vVxTaf-"
      ],
      "authorship_tag": "ABX9TyMiyYpXCBYqXCeGsSfJCzNV",
      "include_colab_link": true
    },
    "kernelspec": {
      "display_name": "Python 3",
      "name": "python3"
    },
    "language_info": {
      "name": "python"
    }
  },
  "nbformat": 4,
  "nbformat_minor": 0
}